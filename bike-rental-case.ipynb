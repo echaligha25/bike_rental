{
 "cells": [
  {
   "cell_type": "markdown",
   "id": "ece6223c",
   "metadata": {
    "papermill": {
     "duration": 0.010432,
     "end_time": "2024-09-14T06:15:15.227048",
     "exception": false,
     "start_time": "2024-09-14T06:15:15.216616",
     "status": "completed"
    },
    "tags": []
   },
   "source": [
    "**Introduction:**\n",
    "\n",
    "Emily is the shop owner, and she would like to gather data to help her grow the\n",
    "business. She has hired you as an SQL specialist to get the answers to her\n",
    "business questions such as How many bikes does the shop own by category?\n",
    "What was the rental revenue for each month? etc. The answers are hidden in the\n",
    "database. You just need to figure out how to get them out using SQL."
   ]
  },
  {
   "cell_type": "code",
   "execution_count": 1,
   "id": "98d992e2",
   "metadata": {
    "execution": {
     "iopub.execute_input": "2024-09-14T06:15:15.249540Z",
     "iopub.status.busy": "2024-09-14T06:15:15.249044Z",
     "iopub.status.idle": "2024-09-14T06:15:15.725565Z",
     "shell.execute_reply": "2024-09-14T06:15:15.724364Z"
    },
    "papermill": {
     "duration": 0.49159,
     "end_time": "2024-09-14T06:15:15.728700",
     "exception": false,
     "start_time": "2024-09-14T06:15:15.237110",
     "status": "completed"
    },
    "tags": []
   },
   "outputs": [],
   "source": [
    "import os\n",
    "import sqlite3\n",
    "import pandas as pd\n",
    "\n",
    "#create bike_rental database\n",
    "conn=sqlite3.connect('bike_rental.db')\n"
   ]
  },
  {
   "cell_type": "code",
   "execution_count": 2,
   "id": "30df09b3",
   "metadata": {
    "execution": {
     "iopub.execute_input": "2024-09-14T06:15:15.750192Z",
     "iopub.status.busy": "2024-09-14T06:15:15.749622Z",
     "iopub.status.idle": "2024-09-14T06:15:15.756508Z",
     "shell.execute_reply": "2024-09-14T06:15:15.755348Z"
    },
    "papermill": {
     "duration": 0.020984,
     "end_time": "2024-09-14T06:15:15.759486",
     "exception": false,
     "start_time": "2024-09-14T06:15:15.738502",
     "status": "completed"
    },
    "tags": []
   },
   "outputs": [
    {
     "name": "stdout",
     "output_type": "stream",
     "text": [
      "['__notebook__.ipynb', 'bike_rental.db']\n"
     ]
    }
   ],
   "source": [
    "#checkup if the database has been created\n",
    "print(os.listdir('.'))"
   ]
  },
  {
   "cell_type": "code",
   "execution_count": 3,
   "id": "465c1f06",
   "metadata": {
    "execution": {
     "iopub.execute_input": "2024-09-14T06:15:15.780773Z",
     "iopub.status.busy": "2024-09-14T06:15:15.779926Z",
     "iopub.status.idle": "2024-09-14T06:15:15.785517Z",
     "shell.execute_reply": "2024-09-14T06:15:15.784262Z"
    },
    "papermill": {
     "duration": 0.019263,
     "end_time": "2024-09-14T06:15:15.788208",
     "exception": false,
     "start_time": "2024-09-14T06:15:15.768945",
     "status": "completed"
    },
    "tags": []
   },
   "outputs": [],
   "source": [
    "#crate cursor object, this will be used for executing SQL Commands in SQLite\n",
    "cursor=conn.cursor()"
   ]
  },
  {
   "cell_type": "code",
   "execution_count": 4,
   "id": "2c7f1770",
   "metadata": {
    "execution": {
     "iopub.execute_input": "2024-09-14T06:15:15.809820Z",
     "iopub.status.busy": "2024-09-14T06:15:15.808555Z",
     "iopub.status.idle": "2024-09-14T06:15:15.877037Z",
     "shell.execute_reply": "2024-09-14T06:15:15.875601Z"
    },
    "papermill": {
     "duration": 0.08216,
     "end_time": "2024-09-14T06:15:15.879825",
     "exception": false,
     "start_time": "2024-09-14T06:15:15.797665",
     "status": "completed"
    },
    "tags": []
   },
   "outputs": [
    {
     "data": {
      "text/plain": [
       "<sqlite3.Cursor at 0x7c04ac13f240>"
      ]
     },
     "execution_count": 4,
     "metadata": {},
     "output_type": "execute_result"
    }
   ],
   "source": [
    "# Create a tables with a primary key\n",
    "#customer table\n",
    "cursor.execute('''\n",
    "CREATE TABLE IF NOT EXISTS customer (\n",
    "id INTEGER PRIMARY KEY,\n",
    "name VARCHAR(30) NOT NULL,\n",
    "email VARCHAR(30) NOT NULL\n",
    ")\n",
    "''')\n",
    "\n",
    "#bike table\n",
    "cursor.execute('''\n",
    "CREATE TABLE IF NOT EXISTS bike (\n",
    "id INTEGER PRIMARY KEY,\n",
    "model VARCHAR(50) NOT NULL,\n",
    "category VARCHAR(50) NOT NULL,\n",
    "price_per_hour DECIMAL(10,2),\n",
    "price_per_day DECIMAL(10,2),\n",
    "status VARCHAR(20)\n",
    ")\n",
    "\n",
    "''')\n",
    "\n",
    "#rental table\n",
    "cursor.execute('''\n",
    "CREATE TABLE IF NOT EXISTS rental (\n",
    "id INTEGER PRIMARY KEY,\n",
    "customer_id INTEGER references customer(id),\n",
    "bike_id INTEGER references bike(id),\n",
    "start_timestamp timestamp,\n",
    "duration INTEGER,\n",
    "total_paid DECIMAL(10,2)\n",
    "\n",
    ")\n",
    "''')\n",
    "\n",
    "#membership_type table\n",
    "cursor.execute('''\n",
    "CREATE TABLE IF NOT EXISTS membership_type (\n",
    "id INTEGER PRIMARY KEY,\n",
    "name VARCHAR(50) NOT NULL,\n",
    "description VARCHAR(500),\n",
    "price DECIMAL(10,2)\n",
    "\n",
    ")\n",
    "''')\n",
    "\n",
    "#membership table\n",
    "cursor.execute('''\n",
    "CREATE TABLE IF NOT EXISTS membership (\n",
    "id INTEGER PRIMARY KEY,\n",
    "membership_type_id INTEGER references membership_type(id),\n",
    "customer_id INTEGER references customer(id),\n",
    "start_date date,\n",
    "end_date date,\n",
    "total_paid DECIMAL(10,2)\n",
    "\n",
    ")\n",
    "''')"
   ]
  },
  {
   "cell_type": "code",
   "execution_count": 5,
   "id": "198bf82d",
   "metadata": {
    "execution": {
     "iopub.execute_input": "2024-09-14T06:15:15.901184Z",
     "iopub.status.busy": "2024-09-14T06:15:15.900642Z",
     "iopub.status.idle": "2024-09-14T06:15:15.906511Z",
     "shell.execute_reply": "2024-09-14T06:15:15.905275Z"
    },
    "papermill": {
     "duration": 0.019673,
     "end_time": "2024-09-14T06:15:15.909249",
     "exception": false,
     "start_time": "2024-09-14T06:15:15.889576",
     "status": "completed"
    },
    "tags": []
   },
   "outputs": [],
   "source": [
    "#remember to commit\n",
    "conn.commit()"
   ]
  },
  {
   "cell_type": "code",
   "execution_count": 6,
   "id": "39cbb6de",
   "metadata": {
    "execution": {
     "iopub.execute_input": "2024-09-14T06:15:15.930379Z",
     "iopub.status.busy": "2024-09-14T06:15:15.929935Z",
     "iopub.status.idle": "2024-09-14T06:15:15.938200Z",
     "shell.execute_reply": "2024-09-14T06:15:15.936692Z"
    },
    "papermill": {
     "duration": 0.022375,
     "end_time": "2024-09-14T06:15:15.941190",
     "exception": false,
     "start_time": "2024-09-14T06:15:15.918815",
     "status": "completed"
    },
    "tags": []
   },
   "outputs": [
    {
     "name": "stdout",
     "output_type": "stream",
     "text": [
      "customer\n",
      "bike\n",
      "rental\n",
      "membership_type\n",
      "membership\n"
     ]
    }
   ],
   "source": [
    "#crosscheck if the table created has been exsist \n",
    "cursor.execute(\"SELECT name FROM sqlite_master WHERE type='table';\")\n",
    "tables = cursor.fetchall()\n",
    "for table in tables:\n",
    "    print(table[0])"
   ]
  },
  {
   "cell_type": "code",
   "execution_count": 7,
   "id": "16eae741",
   "metadata": {
    "execution": {
     "iopub.execute_input": "2024-09-14T06:15:15.963579Z",
     "iopub.status.busy": "2024-09-14T06:15:15.962506Z",
     "iopub.status.idle": "2024-09-14T06:15:15.994404Z",
     "shell.execute_reply": "2024-09-14T06:15:15.993109Z"
    },
    "papermill": {
     "duration": 0.046185,
     "end_time": "2024-09-14T06:15:15.997448",
     "exception": false,
     "start_time": "2024-09-14T06:15:15.951263",
     "status": "completed"
    },
    "tags": []
   },
   "outputs": [
    {
     "data": {
      "text/html": [
       "<div>\n",
       "<style scoped>\n",
       "    .dataframe tbody tr th:only-of-type {\n",
       "        vertical-align: middle;\n",
       "    }\n",
       "\n",
       "    .dataframe tbody tr th {\n",
       "        vertical-align: top;\n",
       "    }\n",
       "\n",
       "    .dataframe thead th {\n",
       "        text-align: right;\n",
       "    }\n",
       "</style>\n",
       "<table border=\"1\" class=\"dataframe\">\n",
       "  <thead>\n",
       "    <tr style=\"text-align: right;\">\n",
       "      <th></th>\n",
       "      <th>cid</th>\n",
       "      <th>name</th>\n",
       "      <th>type</th>\n",
       "      <th>notnull</th>\n",
       "      <th>dflt_value</th>\n",
       "      <th>pk</th>\n",
       "    </tr>\n",
       "  </thead>\n",
       "  <tbody>\n",
       "    <tr>\n",
       "      <th>0</th>\n",
       "      <td>0</td>\n",
       "      <td>id</td>\n",
       "      <td>INTEGER</td>\n",
       "      <td>0</td>\n",
       "      <td>None</td>\n",
       "      <td>1</td>\n",
       "    </tr>\n",
       "    <tr>\n",
       "      <th>1</th>\n",
       "      <td>1</td>\n",
       "      <td>customer_id</td>\n",
       "      <td>INTEGER</td>\n",
       "      <td>0</td>\n",
       "      <td>None</td>\n",
       "      <td>0</td>\n",
       "    </tr>\n",
       "    <tr>\n",
       "      <th>2</th>\n",
       "      <td>2</td>\n",
       "      <td>bike_id</td>\n",
       "      <td>INTEGER</td>\n",
       "      <td>0</td>\n",
       "      <td>None</td>\n",
       "      <td>0</td>\n",
       "    </tr>\n",
       "    <tr>\n",
       "      <th>3</th>\n",
       "      <td>3</td>\n",
       "      <td>start_timestamp</td>\n",
       "      <td>timestamp</td>\n",
       "      <td>0</td>\n",
       "      <td>None</td>\n",
       "      <td>0</td>\n",
       "    </tr>\n",
       "    <tr>\n",
       "      <th>4</th>\n",
       "      <td>4</td>\n",
       "      <td>duration</td>\n",
       "      <td>INTEGER</td>\n",
       "      <td>0</td>\n",
       "      <td>None</td>\n",
       "      <td>0</td>\n",
       "    </tr>\n",
       "    <tr>\n",
       "      <th>5</th>\n",
       "      <td>5</td>\n",
       "      <td>total_paid</td>\n",
       "      <td>DECIMAL(10,2)</td>\n",
       "      <td>0</td>\n",
       "      <td>None</td>\n",
       "      <td>0</td>\n",
       "    </tr>\n",
       "  </tbody>\n",
       "</table>\n",
       "</div>"
      ],
      "text/plain": [
       "   cid             name           type  notnull dflt_value  pk\n",
       "0    0               id        INTEGER        0       None   1\n",
       "1    1      customer_id        INTEGER        0       None   0\n",
       "2    2          bike_id        INTEGER        0       None   0\n",
       "3    3  start_timestamp      timestamp        0       None   0\n",
       "4    4         duration        INTEGER        0       None   0\n",
       "5    5       total_paid  DECIMAL(10,2)        0       None   0"
      ]
     },
     "execution_count": 7,
     "metadata": {},
     "output_type": "execute_result"
    }
   ],
   "source": [
    "# Check the table structure using PRAGMA\n",
    "cursor.execute(\"PRAGMA table_info(rental);\")\n",
    "ren = cursor.fetchall()\n",
    "col = [desc[0] for desc in cursor.description]\n",
    "df = pd.DataFrame(ren, columns=col)\n",
    "df\n"
   ]
  },
  {
   "cell_type": "code",
   "execution_count": 8,
   "id": "7ae3c20d",
   "metadata": {
    "execution": {
     "iopub.execute_input": "2024-09-14T06:15:16.020104Z",
     "iopub.status.busy": "2024-09-14T06:15:16.019613Z",
     "iopub.status.idle": "2024-09-14T06:15:16.043474Z",
     "shell.execute_reply": "2024-09-14T06:15:16.042299Z"
    },
    "papermill": {
     "duration": 0.038616,
     "end_time": "2024-09-14T06:15:16.046050",
     "exception": false,
     "start_time": "2024-09-14T06:15:16.007434",
     "status": "completed"
    },
    "tags": []
   },
   "outputs": [
    {
     "data": {
      "text/plain": [
       "\"\\ncursor.execute(''' INSERT INTO customer (id, name, email) VALUES(2,'Alice Smith','alice.smith@example.com')''')\\ncursor.execute(''' INSERT INTO customer (id, name, email) VALUES(3,'Bob Johnson','john.doe@example.com')''')\\ncursor.execute(''' INSERT INTO customer (id, name, email) VALUES(4,'Eva Brown','eva.brown@example.com')''')\\ncursor.execute(''' INSERT INTO customer (id, name, email) VALUES(5,'Michael Lee','michael.lee@example.com')''')\\ncursor.execute(''' INSERT INTO customer (id, name, email) VALUES(6,'Sarah White','sarah.white@example.com')''')\\ncursor.execute(''' INSERT INTO customer (id, name, email) VALUES(7,'David Wilson','david.wilson@example.com')''')\\ncursor.execute(''' INSERT INTO customer (id, name, email) VALUES(8,'Emily Davis','emily.davis@example.com')''')\\ncursor.execute(''' INSERT INTO customer (id, name, email) VALUES(9,'Daniel Miller','daniel.miller@example.com')''')\\ncursor.execute(''' INSERT INTO customer (id, name, email) VALUES(10,'Olivia Taylor','olivia.taylor@example.com')''')\\n\\n\\n\\n\\n\\ncursor.execute(''' INSERT INTO bike (id, model, category, price_per_hour, price_per_day, status) values(1,\\t'Mountain Bike 1'\\t,'mountain bike'\\t,10.00\\t,50.00\\t,'available')''')\\ncursor.execute(''' INSERT INTO bike (id, model, category, price_per_hour, price_per_day, status) values(2,\\t'Road Bike 1'\\t,'road bike',12.00\\t,60.00\\t,'available')''')\\ncursor.execute(''' INSERT INTO bike (id, model, category, price_per_hour, price_per_day, status) values(3,\\t'Hybrid Bike 1'\\t,'hybrid'\\t,8.00\\t,40.00\\t,'rented')''')\\ncursor.execute(''' INSERT INTO bike (id, model, category, price_per_hour, price_per_day, status) values(4,\\t'Electric Bike 1'\\t,'electric',15.00\\t,75.00\\t,'available')''')\\ncursor.execute(''' INSERT INTO bike (id, model, category, price_per_hour, price_per_day, status) values(5,\\t'Mountain Bike 2'\\t,'mountain bike'\\t,10.00\\t,50.00\\t,'out of service')''')\\ncursor.execute(''' INSERT INTO bike (id, model, category, price_per_hour, price_per_day, status) values(6,\\t'Road Bike 2'\\t,'road bike',12.00\\t,60.00\\t,'available')''')\\ncursor.execute(''' INSERT INTO bike (id, model, category, price_per_hour, price_per_day, status) values(7,\\t'Hybrid Bike 2'\\t,'hybrid'\\t,8.00\\t,40.00\\t,'out of service')''')\\ncursor.execute(''' INSERT INTO bike (id, model, category, price_per_hour, price_per_day, status) values(8,\\t'Electric Bike 2'\\t,'electric',15.00\\t,75.00\\t,'available')''')\\ncursor.execute(''' INSERT INTO bike (id, model, category, price_per_hour, price_per_day, status) values(9,\\t'Mountain Bike 3'\\t,'mountain bike'\\t,10.00\\t,50.00\\t,'rented')''')\\ncursor.execute(''' INSERT INTO bike (id, model, category, price_per_hour, price_per_day, status) values(10,\\t'Road Bike 3'\\t,'road bike',12.00\\t,60.00\\t,'available')''')\\n\\n\\n\\n\\n\\ncursor.execute(''' INSERT INTO rental (id, customer_id, bike_id, start_timestamp, duration, total_paid)  VALUES(1,\\t1,\\t1,\\t'2022-11-01 10:00:00',\\t240,\\t50.00)''')\\ncursor.execute(''' INSERT INTO rental (id, customer_id, bike_id, start_timestamp, duration, total_paid)  VALUES(2,\\t1,\\t1,\\t'2022-11-02 10:00:00',\\t245,\\t50.00)''')\\ncursor.execute(''' INSERT INTO rental (id, customer_id, bike_id, start_timestamp, duration, total_paid)  VALUES(3,\\t1,\\t1,\\t'2022-11-03 10:00:00',\\t250,\\t50.00)''')\\ncursor.execute(''' INSERT INTO rental (id, customer_id, bike_id, start_timestamp, duration, total_paid)  VALUES(4,\\t1,\\t1,\\t'2022-11-04 10:00:00',\\t235,\\t50.00)''')\\ncursor.execute(''' INSERT INTO rental (id, customer_id, bike_id, start_timestamp, duration, total_paid)  VALUES(5,\\t1,\\t1,\\t'2022-12-05 10:00:00',\\t155,\\t50.00)''')\\ncursor.execute(''' INSERT INTO rental (id, customer_id, bike_id, start_timestamp, duration, total_paid)  VALUES(6,\\t2,\\t2,\\t'2022-12-08 11:00:00',\\t250,\\t60.00)''')\\ncursor.execute(''' INSERT INTO rental (id, customer_id, bike_id, start_timestamp, duration, total_paid)  VALUES(7,\\t3,\\t3,\\t'2022-12-13 12:00:00',\\t245,\\t40.00)''')\\ncursor.execute(''' INSERT INTO rental (id, customer_id, bike_id, start_timestamp, duration, total_paid)  VALUES(8,\\t1,\\t1,\\t'2023-01-05 10:00:00',\\t240,\\t50.00)''')\\ncursor.execute(''' INSERT INTO rental (id, customer_id, bike_id, start_timestamp, duration, total_paid)  VALUES(9,\\t2,\\t2,\\t'2023-01-08 11:00:00',\\t235,\\t60.00)''')\\ncursor.execute(''' INSERT INTO rental (id, customer_id, bike_id, start_timestamp, duration, total_paid)  VALUES(10,\\t3,\\t3,\\t'2023-02-13 12:00:00',\\t245,\\t40.00)''')\\ncursor.execute(''' INSERT INTO rental (id, customer_id, bike_id, start_timestamp, duration, total_paid)  VALUES(11,\\t1,\\t1,\\t'2023-03-05 10:00:00',\\t250,\\t50.00)''')\\ncursor.execute(''' INSERT INTO rental (id, customer_id, bike_id, start_timestamp, duration, total_paid)  VALUES(12,\\t2,\\t2,\\t'2023-03-08 11:00:00',\\t355,\\t60.00)''')\\ncursor.execute(''' INSERT INTO rental (id, customer_id, bike_id, start_timestamp, duration, total_paid)  VALUES(13,\\t3,\\t3,\\t'2023-04-13 12:00:00',\\t240,\\t40.00)''')\\ncursor.execute(''' INSERT INTO rental (id, customer_id, bike_id, start_timestamp, duration, total_paid)  VALUES(14,\\t1,\\t1,\\t'2023-04-01 10:00:00',\\t235,\\t50.00)''')\\ncursor.execute(''' INSERT INTO rental (id, customer_id, bike_id, start_timestamp, duration, total_paid)  VALUES(15,\\t1,\\t6,\\t'2023-05-01 10:00:00',\\t245,\\t60.00)''')\\ncursor.execute(''' INSERT INTO rental (id, customer_id, bike_id, start_timestamp, duration, total_paid)  VALUES(16,\\t1,\\t2,\\t'2023-05-01 10:00:00',\\t250,\\t60.00)''')\\ncursor.execute(''' INSERT INTO rental (id, customer_id, bike_id, start_timestamp, duration, total_paid)  VALUES(17,\\t1,\\t3,\\t'2023-06-01 10:00:00',\\t235,\\t40.00)''')\\ncursor.execute(''' INSERT INTO rental (id, customer_id, bike_id, start_timestamp, duration, total_paid)  VALUES(18,\\t1,\\t4,\\t'2023-06-01 10:00:00',\\t255,\\t75.00)''')\\ncursor.execute(''' INSERT INTO rental (id, customer_id, bike_id, start_timestamp, duration, total_paid)  VALUES(19,\\t1,\\t5,\\t'2023-07-01 10:00:00',\\t240,\\t50.00)''')\\ncursor.execute(''' INSERT INTO rental (id, customer_id, bike_id, start_timestamp, duration, total_paid)  VALUES(20,\\t2,\\t2,\\t'2023-07-02 11:00:00',\\t445,\\t60.00)''')\\ncursor.execute(''' INSERT INTO rental (id, customer_id, bike_id, start_timestamp, duration, total_paid)  VALUES(21,\\t3,\\t3,\\t'2023-07-03 12:00:00',\\t250,\\t40.00)''')\\ncursor.execute(''' INSERT INTO rental (id, customer_id, bike_id, start_timestamp, duration, total_paid)  VALUES(22,\\t4,\\t4,\\t'2023-08-04 13:00:00',\\t235,\\t75.00)''')\\ncursor.execute(''' INSERT INTO rental (id, customer_id, bike_id, start_timestamp, duration, total_paid)  VALUES(23,\\t5,\\t5,\\t'2023-08-05 14:00:00',\\t555,\\t50.00)''')\\ncursor.execute(''' INSERT INTO rental (id, customer_id, bike_id, start_timestamp, duration, total_paid)  VALUES(24,\\t6,\\t6,\\t'2023-09-06 15:00:00',\\t240,\\t60.00)''')\\ncursor.execute(''' INSERT INTO rental (id, customer_id, bike_id, start_timestamp, duration, total_paid)  VALUES(25,\\t7,\\t7,\\t'2023-09-07 16:00:00',\\t245,\\t40.00)''')\\ncursor.execute(''' INSERT INTO rental (id, customer_id, bike_id, start_timestamp, duration, total_paid)  VALUES(26,\\t8,\\t8,\\t'2023-09-08 17:00:00',\\t250,\\t75.00)''')\\ncursor.execute(''' INSERT INTO rental (id, customer_id, bike_id, start_timestamp, duration, total_paid)  VALUES(27,\\t9,\\t9,\\t'2023-10-09 18:00:00',\\t335,\\t50.00)''')\\ncursor.execute(''' INSERT INTO rental (id, customer_id, bike_id, start_timestamp, duration, total_paid)  VALUES(28,\\t10,\\t10,\\t'2023-10-10 19:00:00',\\t255,\\t60.00)''')\\ncursor.execute(''' INSERT INTO rental (id, customer_id, bike_id, start_timestamp, duration, total_paid)  VALUES(29,\\t10,\\t1,\\t'2023-10-10 19:00:00',\\t240,\\t50.00)''')\\ncursor.execute(''' INSERT INTO rental (id, customer_id, bike_id, start_timestamp, duration, total_paid)  VALUES(30,\\t10,\\t2,\\t'2023-10-10 19:00:00',\\t245,\\t60.00)''')\\ncursor.execute(''' INSERT INTO rental (id, customer_id, bike_id, start_timestamp, duration, total_paid)  VALUES(31,\\t10,\\t3,\\t'2023-10-10 19:00:00',\\t250,\\t40.00)''')\\ncursor.execute(''' INSERT INTO rental (id, customer_id, bike_id, start_timestamp, duration, total_paid)  VALUES(32,\\t10,\\t4,\\t'2023-10-10 19:00:00',\\t235,\\t75.00)''')\\n\\n\\n\\ncursor.execute(''' INSERT INTO membership_type (id, name, description, price)  values(1,'Basic Monthly',\\t'Unlimited rides with non-electric bikes. Renews monthly.',\\t100.00)''')\\ncursor.execute(''' INSERT INTO membership_type (id, name, description, price)  values(2,'Basic Annual',\\t'Unlimited rides with non-electric bikes. Renews annually.',500.00)''')\\ncursor.execute(''' INSERT INTO membership_type (id, name, description, price)  values(3,'Premium Monthly',\\t'Unlimited rides with all bikes. Renews monthly.',\\t200.00)''')\\n\\ncursor.execute(''' INSERT INTO membership (id, membership_type_id, customer_id, start_date,end_date,total_paid) values(1,\\t2,\\t3,\\t'2023-08-01',\\t'2023-08-31',\\t500.00)''')\\ncursor.execute(''' INSERT INTO membership (id, membership_type_id, customer_id, start_date,end_date,total_paid) values(2,\\t1,\\t2,\\t'2023-08-01',\\t'2023-08-31',\\t100.00)''')\\ncursor.execute(''' INSERT INTO membership (id, membership_type_id, customer_id, start_date,end_date,total_paid) values(3,\\t3,\\t4,\\t'2023-08-01',\\t'2023-08-31',\\t200.00)''')\\ncursor.execute(''' INSERT INTO membership (id, membership_type_id, customer_id, start_date,end_date,total_paid) values(4,\\t1,\\t1,\\t'2023-09-01',\\t'2023-09-30',\\t100.00)''')\\ncursor.execute(''' INSERT INTO membership (id, membership_type_id, customer_id, start_date,end_date,total_paid) values(5,\\t2,\\t2,\\t'2023-09-01',\\t'2023-09-30',\\t500.00)''')\\ncursor.execute(''' INSERT INTO membership (id, membership_type_id, customer_id, start_date,end_date,total_paid) values(6,\\t3,\\t3,\\t'2023-09-01',\\t'2023-09-30',\\t200.00)''')\\ncursor.execute(''' INSERT INTO membership (id, membership_type_id, customer_id, start_date,end_date,total_paid) values(7,\\t1,\\t4,\\t'2023-10-01',\\t'2023-10-31',\\t100.00)''')\\ncursor.execute(''' INSERT INTO membership (id, membership_type_id, customer_id, start_date,end_date,total_paid) values(8,\\t2,\\t5,\\t'2023-10-01',\\t'2023-10-31',\\t500.00)''')\\ncursor.execute(''' INSERT INTO membership (id, membership_type_id, customer_id, start_date,end_date,total_paid) values(9,\\t3,\\t3,\\t'2023-10-01',\\t'2023-10-31',\\t200.00)''')\\ncursor.execute(''' INSERT INTO membership (id, membership_type_id, customer_id, start_date,end_date,total_paid) values(10,\\t3,\\t1,\\t'2023-11-01',\\t'2023-11-30',\\t200.00)''')\\ncursor.execute(''' INSERT INTO membership (id, membership_type_id, customer_id, start_date,end_date,total_paid) values(11,\\t2,\\t5,\\t'2023-11-01',\\t'2023-11-30',\\t500.00)''')\\ncursor.execute(''' INSERT INTO membership (id, membership_type_id, customer_id, start_date,end_date,total_paid) values(12,\\t1,\\t2,\\t'2023-11-01',\\t'2023-11-30',\\t100.00)''')\\n\\n\""
      ]
     },
     "execution_count": 8,
     "metadata": {},
     "output_type": "execute_result"
    }
   ],
   "source": [
    "#uncomment and run the insert script below using SQLite database\n",
    "\n",
    "\"\"\"\n",
    "cursor.execute(''' INSERT INTO customer (id, name, email) VALUES(2,'Alice Smith','alice.smith@example.com')''')\n",
    "cursor.execute(''' INSERT INTO customer (id, name, email) VALUES(3,'Bob Johnson','john.doe@example.com')''')\n",
    "cursor.execute(''' INSERT INTO customer (id, name, email) VALUES(4,'Eva Brown','eva.brown@example.com')''')\n",
    "cursor.execute(''' INSERT INTO customer (id, name, email) VALUES(5,'Michael Lee','michael.lee@example.com')''')\n",
    "cursor.execute(''' INSERT INTO customer (id, name, email) VALUES(6,'Sarah White','sarah.white@example.com')''')\n",
    "cursor.execute(''' INSERT INTO customer (id, name, email) VALUES(7,'David Wilson','david.wilson@example.com')''')\n",
    "cursor.execute(''' INSERT INTO customer (id, name, email) VALUES(8,'Emily Davis','emily.davis@example.com')''')\n",
    "cursor.execute(''' INSERT INTO customer (id, name, email) VALUES(9,'Daniel Miller','daniel.miller@example.com')''')\n",
    "cursor.execute(''' INSERT INTO customer (id, name, email) VALUES(10,'Olivia Taylor','olivia.taylor@example.com')''')\n",
    "\n",
    "\n",
    "\n",
    "\n",
    "\n",
    "cursor.execute(''' INSERT INTO bike (id, model, category, price_per_hour, price_per_day, status) values(1,\t'Mountain Bike 1'\t,'mountain bike'\t,10.00\t,50.00\t,'available')''')\n",
    "cursor.execute(''' INSERT INTO bike (id, model, category, price_per_hour, price_per_day, status) values(2,\t'Road Bike 1'\t,'road bike',12.00\t,60.00\t,'available')''')\n",
    "cursor.execute(''' INSERT INTO bike (id, model, category, price_per_hour, price_per_day, status) values(3,\t'Hybrid Bike 1'\t,'hybrid'\t,8.00\t,40.00\t,'rented')''')\n",
    "cursor.execute(''' INSERT INTO bike (id, model, category, price_per_hour, price_per_day, status) values(4,\t'Electric Bike 1'\t,'electric',15.00\t,75.00\t,'available')''')\n",
    "cursor.execute(''' INSERT INTO bike (id, model, category, price_per_hour, price_per_day, status) values(5,\t'Mountain Bike 2'\t,'mountain bike'\t,10.00\t,50.00\t,'out of service')''')\n",
    "cursor.execute(''' INSERT INTO bike (id, model, category, price_per_hour, price_per_day, status) values(6,\t'Road Bike 2'\t,'road bike',12.00\t,60.00\t,'available')''')\n",
    "cursor.execute(''' INSERT INTO bike (id, model, category, price_per_hour, price_per_day, status) values(7,\t'Hybrid Bike 2'\t,'hybrid'\t,8.00\t,40.00\t,'out of service')''')\n",
    "cursor.execute(''' INSERT INTO bike (id, model, category, price_per_hour, price_per_day, status) values(8,\t'Electric Bike 2'\t,'electric',15.00\t,75.00\t,'available')''')\n",
    "cursor.execute(''' INSERT INTO bike (id, model, category, price_per_hour, price_per_day, status) values(9,\t'Mountain Bike 3'\t,'mountain bike'\t,10.00\t,50.00\t,'rented')''')\n",
    "cursor.execute(''' INSERT INTO bike (id, model, category, price_per_hour, price_per_day, status) values(10,\t'Road Bike 3'\t,'road bike',12.00\t,60.00\t,'available')''')\n",
    "\n",
    "\n",
    "\n",
    "\n",
    "\n",
    "cursor.execute(''' INSERT INTO rental (id, customer_id, bike_id, start_timestamp, duration, total_paid)  VALUES(1,\t1,\t1,\t'2022-11-01 10:00:00',\t240,\t50.00)''')\n",
    "cursor.execute(''' INSERT INTO rental (id, customer_id, bike_id, start_timestamp, duration, total_paid)  VALUES(2,\t1,\t1,\t'2022-11-02 10:00:00',\t245,\t50.00)''')\n",
    "cursor.execute(''' INSERT INTO rental (id, customer_id, bike_id, start_timestamp, duration, total_paid)  VALUES(3,\t1,\t1,\t'2022-11-03 10:00:00',\t250,\t50.00)''')\n",
    "cursor.execute(''' INSERT INTO rental (id, customer_id, bike_id, start_timestamp, duration, total_paid)  VALUES(4,\t1,\t1,\t'2022-11-04 10:00:00',\t235,\t50.00)''')\n",
    "cursor.execute(''' INSERT INTO rental (id, customer_id, bike_id, start_timestamp, duration, total_paid)  VALUES(5,\t1,\t1,\t'2022-12-05 10:00:00',\t155,\t50.00)''')\n",
    "cursor.execute(''' INSERT INTO rental (id, customer_id, bike_id, start_timestamp, duration, total_paid)  VALUES(6,\t2,\t2,\t'2022-12-08 11:00:00',\t250,\t60.00)''')\n",
    "cursor.execute(''' INSERT INTO rental (id, customer_id, bike_id, start_timestamp, duration, total_paid)  VALUES(7,\t3,\t3,\t'2022-12-13 12:00:00',\t245,\t40.00)''')\n",
    "cursor.execute(''' INSERT INTO rental (id, customer_id, bike_id, start_timestamp, duration, total_paid)  VALUES(8,\t1,\t1,\t'2023-01-05 10:00:00',\t240,\t50.00)''')\n",
    "cursor.execute(''' INSERT INTO rental (id, customer_id, bike_id, start_timestamp, duration, total_paid)  VALUES(9,\t2,\t2,\t'2023-01-08 11:00:00',\t235,\t60.00)''')\n",
    "cursor.execute(''' INSERT INTO rental (id, customer_id, bike_id, start_timestamp, duration, total_paid)  VALUES(10,\t3,\t3,\t'2023-02-13 12:00:00',\t245,\t40.00)''')\n",
    "cursor.execute(''' INSERT INTO rental (id, customer_id, bike_id, start_timestamp, duration, total_paid)  VALUES(11,\t1,\t1,\t'2023-03-05 10:00:00',\t250,\t50.00)''')\n",
    "cursor.execute(''' INSERT INTO rental (id, customer_id, bike_id, start_timestamp, duration, total_paid)  VALUES(12,\t2,\t2,\t'2023-03-08 11:00:00',\t355,\t60.00)''')\n",
    "cursor.execute(''' INSERT INTO rental (id, customer_id, bike_id, start_timestamp, duration, total_paid)  VALUES(13,\t3,\t3,\t'2023-04-13 12:00:00',\t240,\t40.00)''')\n",
    "cursor.execute(''' INSERT INTO rental (id, customer_id, bike_id, start_timestamp, duration, total_paid)  VALUES(14,\t1,\t1,\t'2023-04-01 10:00:00',\t235,\t50.00)''')\n",
    "cursor.execute(''' INSERT INTO rental (id, customer_id, bike_id, start_timestamp, duration, total_paid)  VALUES(15,\t1,\t6,\t'2023-05-01 10:00:00',\t245,\t60.00)''')\n",
    "cursor.execute(''' INSERT INTO rental (id, customer_id, bike_id, start_timestamp, duration, total_paid)  VALUES(16,\t1,\t2,\t'2023-05-01 10:00:00',\t250,\t60.00)''')\n",
    "cursor.execute(''' INSERT INTO rental (id, customer_id, bike_id, start_timestamp, duration, total_paid)  VALUES(17,\t1,\t3,\t'2023-06-01 10:00:00',\t235,\t40.00)''')\n",
    "cursor.execute(''' INSERT INTO rental (id, customer_id, bike_id, start_timestamp, duration, total_paid)  VALUES(18,\t1,\t4,\t'2023-06-01 10:00:00',\t255,\t75.00)''')\n",
    "cursor.execute(''' INSERT INTO rental (id, customer_id, bike_id, start_timestamp, duration, total_paid)  VALUES(19,\t1,\t5,\t'2023-07-01 10:00:00',\t240,\t50.00)''')\n",
    "cursor.execute(''' INSERT INTO rental (id, customer_id, bike_id, start_timestamp, duration, total_paid)  VALUES(20,\t2,\t2,\t'2023-07-02 11:00:00',\t445,\t60.00)''')\n",
    "cursor.execute(''' INSERT INTO rental (id, customer_id, bike_id, start_timestamp, duration, total_paid)  VALUES(21,\t3,\t3,\t'2023-07-03 12:00:00',\t250,\t40.00)''')\n",
    "cursor.execute(''' INSERT INTO rental (id, customer_id, bike_id, start_timestamp, duration, total_paid)  VALUES(22,\t4,\t4,\t'2023-08-04 13:00:00',\t235,\t75.00)''')\n",
    "cursor.execute(''' INSERT INTO rental (id, customer_id, bike_id, start_timestamp, duration, total_paid)  VALUES(23,\t5,\t5,\t'2023-08-05 14:00:00',\t555,\t50.00)''')\n",
    "cursor.execute(''' INSERT INTO rental (id, customer_id, bike_id, start_timestamp, duration, total_paid)  VALUES(24,\t6,\t6,\t'2023-09-06 15:00:00',\t240,\t60.00)''')\n",
    "cursor.execute(''' INSERT INTO rental (id, customer_id, bike_id, start_timestamp, duration, total_paid)  VALUES(25,\t7,\t7,\t'2023-09-07 16:00:00',\t245,\t40.00)''')\n",
    "cursor.execute(''' INSERT INTO rental (id, customer_id, bike_id, start_timestamp, duration, total_paid)  VALUES(26,\t8,\t8,\t'2023-09-08 17:00:00',\t250,\t75.00)''')\n",
    "cursor.execute(''' INSERT INTO rental (id, customer_id, bike_id, start_timestamp, duration, total_paid)  VALUES(27,\t9,\t9,\t'2023-10-09 18:00:00',\t335,\t50.00)''')\n",
    "cursor.execute(''' INSERT INTO rental (id, customer_id, bike_id, start_timestamp, duration, total_paid)  VALUES(28,\t10,\t10,\t'2023-10-10 19:00:00',\t255,\t60.00)''')\n",
    "cursor.execute(''' INSERT INTO rental (id, customer_id, bike_id, start_timestamp, duration, total_paid)  VALUES(29,\t10,\t1,\t'2023-10-10 19:00:00',\t240,\t50.00)''')\n",
    "cursor.execute(''' INSERT INTO rental (id, customer_id, bike_id, start_timestamp, duration, total_paid)  VALUES(30,\t10,\t2,\t'2023-10-10 19:00:00',\t245,\t60.00)''')\n",
    "cursor.execute(''' INSERT INTO rental (id, customer_id, bike_id, start_timestamp, duration, total_paid)  VALUES(31,\t10,\t3,\t'2023-10-10 19:00:00',\t250,\t40.00)''')\n",
    "cursor.execute(''' INSERT INTO rental (id, customer_id, bike_id, start_timestamp, duration, total_paid)  VALUES(32,\t10,\t4,\t'2023-10-10 19:00:00',\t235,\t75.00)''')\n",
    "\n",
    "\n",
    "\n",
    "cursor.execute(''' INSERT INTO membership_type (id, name, description, price)  values(1,'Basic Monthly',\t'Unlimited rides with non-electric bikes. Renews monthly.',\t100.00)''')\n",
    "cursor.execute(''' INSERT INTO membership_type (id, name, description, price)  values(2,'Basic Annual',\t'Unlimited rides with non-electric bikes. Renews annually.',500.00)''')\n",
    "cursor.execute(''' INSERT INTO membership_type (id, name, description, price)  values(3,'Premium Monthly',\t'Unlimited rides with all bikes. Renews monthly.',\t200.00)''')\n",
    "\n",
    "cursor.execute(''' INSERT INTO membership (id, membership_type_id, customer_id, start_date,end_date,total_paid) values(1,\t2,\t3,\t'2023-08-01',\t'2023-08-31',\t500.00)''')\n",
    "cursor.execute(''' INSERT INTO membership (id, membership_type_id, customer_id, start_date,end_date,total_paid) values(2,\t1,\t2,\t'2023-08-01',\t'2023-08-31',\t100.00)''')\n",
    "cursor.execute(''' INSERT INTO membership (id, membership_type_id, customer_id, start_date,end_date,total_paid) values(3,\t3,\t4,\t'2023-08-01',\t'2023-08-31',\t200.00)''')\n",
    "cursor.execute(''' INSERT INTO membership (id, membership_type_id, customer_id, start_date,end_date,total_paid) values(4,\t1,\t1,\t'2023-09-01',\t'2023-09-30',\t100.00)''')\n",
    "cursor.execute(''' INSERT INTO membership (id, membership_type_id, customer_id, start_date,end_date,total_paid) values(5,\t2,\t2,\t'2023-09-01',\t'2023-09-30',\t500.00)''')\n",
    "cursor.execute(''' INSERT INTO membership (id, membership_type_id, customer_id, start_date,end_date,total_paid) values(6,\t3,\t3,\t'2023-09-01',\t'2023-09-30',\t200.00)''')\n",
    "cursor.execute(''' INSERT INTO membership (id, membership_type_id, customer_id, start_date,end_date,total_paid) values(7,\t1,\t4,\t'2023-10-01',\t'2023-10-31',\t100.00)''')\n",
    "cursor.execute(''' INSERT INTO membership (id, membership_type_id, customer_id, start_date,end_date,total_paid) values(8,\t2,\t5,\t'2023-10-01',\t'2023-10-31',\t500.00)''')\n",
    "cursor.execute(''' INSERT INTO membership (id, membership_type_id, customer_id, start_date,end_date,total_paid) values(9,\t3,\t3,\t'2023-10-01',\t'2023-10-31',\t200.00)''')\n",
    "cursor.execute(''' INSERT INTO membership (id, membership_type_id, customer_id, start_date,end_date,total_paid) values(10,\t3,\t1,\t'2023-11-01',\t'2023-11-30',\t200.00)''')\n",
    "cursor.execute(''' INSERT INTO membership (id, membership_type_id, customer_id, start_date,end_date,total_paid) values(11,\t2,\t5,\t'2023-11-01',\t'2023-11-30',\t500.00)''')\n",
    "cursor.execute(''' INSERT INTO membership (id, membership_type_id, customer_id, start_date,end_date,total_paid) values(12,\t1,\t2,\t'2023-11-01',\t'2023-11-30',\t100.00)''')\n",
    "\n",
    "\"\"\""
   ]
  },
  {
   "cell_type": "code",
   "execution_count": 9,
   "id": "5d4e7338",
   "metadata": {
    "execution": {
     "iopub.execute_input": "2024-09-14T06:15:16.068943Z",
     "iopub.status.busy": "2024-09-14T06:15:16.068462Z",
     "iopub.status.idle": "2024-09-14T06:15:16.074041Z",
     "shell.execute_reply": "2024-09-14T06:15:16.072816Z"
    },
    "papermill": {
     "duration": 0.020205,
     "end_time": "2024-09-14T06:15:16.076787",
     "exception": false,
     "start_time": "2024-09-14T06:15:16.056582",
     "status": "completed"
    },
    "tags": []
   },
   "outputs": [],
   "source": [
    "#insert once then commit, NOTE: SQLite is clearing table and records once the connection closed\n",
    "conn.commit()"
   ]
  },
  {
   "cell_type": "code",
   "execution_count": 10,
   "id": "6cbd1d15",
   "metadata": {
    "execution": {
     "iopub.execute_input": "2024-09-14T06:15:16.100431Z",
     "iopub.status.busy": "2024-09-14T06:15:16.099935Z",
     "iopub.status.idle": "2024-09-14T06:15:16.119361Z",
     "shell.execute_reply": "2024-09-14T06:15:16.118100Z"
    },
    "papermill": {
     "duration": 0.034455,
     "end_time": "2024-09-14T06:15:16.122266",
     "exception": false,
     "start_time": "2024-09-14T06:15:16.087811",
     "status": "completed"
    },
    "tags": []
   },
   "outputs": [
    {
     "data": {
      "text/html": [
       "<div>\n",
       "<style scoped>\n",
       "    .dataframe tbody tr th:only-of-type {\n",
       "        vertical-align: middle;\n",
       "    }\n",
       "\n",
       "    .dataframe tbody tr th {\n",
       "        vertical-align: top;\n",
       "    }\n",
       "\n",
       "    .dataframe thead th {\n",
       "        text-align: right;\n",
       "    }\n",
       "</style>\n",
       "<table border=\"1\" class=\"dataframe\">\n",
       "  <thead>\n",
       "    <tr style=\"text-align: right;\">\n",
       "      <th></th>\n",
       "      <th>id</th>\n",
       "      <th>customer_id</th>\n",
       "      <th>bike_id</th>\n",
       "      <th>start_timestamp</th>\n",
       "      <th>duration</th>\n",
       "      <th>total_paid</th>\n",
       "    </tr>\n",
       "  </thead>\n",
       "  <tbody>\n",
       "  </tbody>\n",
       "</table>\n",
       "</div>"
      ],
      "text/plain": [
       "Empty DataFrame\n",
       "Columns: [id, customer_id, bike_id, start_timestamp, duration, total_paid]\n",
       "Index: []"
      ]
     },
     "execution_count": 10,
     "metadata": {},
     "output_type": "execute_result"
    }
   ],
   "source": [
    "# Execute the query and fetch the data\n",
    "cursor.execute(\"SELECT * FROM rental;\")\n",
    "mer = cursor.fetchall()\n",
    "# Get the column headers\n",
    "col_names = [desc[0] for desc in cursor.description]\n",
    "# Create a DataFrame from the fetched data\n",
    "df = pd.DataFrame(mer, columns=col_names)\n",
    "df\n"
   ]
  },
  {
   "cell_type": "markdown",
   "id": "f4295ad6",
   "metadata": {
    "papermill": {
     "duration": 0.010984,
     "end_time": "2024-09-14T06:15:16.144439",
     "exception": false,
     "start_time": "2024-09-14T06:15:16.133455",
     "status": "completed"
    },
    "tags": []
   },
   "source": [
    "1.Emily would like to know how many bikes the shop owns by category. Can\n",
    "you get this for her? \n",
    "Display the category name and the number of bikes the shop owns in\n",
    "each category (call this column number_of_bikes ). Show only the categories\n",
    "where the number of bikes is greater than 2 ."
   ]
  },
  {
   "cell_type": "code",
   "execution_count": 11,
   "id": "03e2f33c",
   "metadata": {
    "execution": {
     "iopub.execute_input": "2024-09-14T06:15:16.167979Z",
     "iopub.status.busy": "2024-09-14T06:15:16.167554Z",
     "iopub.status.idle": "2024-09-14T06:15:16.182421Z",
     "shell.execute_reply": "2024-09-14T06:15:16.180870Z"
    },
    "papermill": {
     "duration": 0.030427,
     "end_time": "2024-09-14T06:15:16.185561",
     "exception": false,
     "start_time": "2024-09-14T06:15:16.155134",
     "status": "completed"
    },
    "tags": []
   },
   "outputs": [
    {
     "data": {
      "text/html": [
       "<div>\n",
       "<style scoped>\n",
       "    .dataframe tbody tr th:only-of-type {\n",
       "        vertical-align: middle;\n",
       "    }\n",
       "\n",
       "    .dataframe tbody tr th {\n",
       "        vertical-align: top;\n",
       "    }\n",
       "\n",
       "    .dataframe thead th {\n",
       "        text-align: right;\n",
       "    }\n",
       "</style>\n",
       "<table border=\"1\" class=\"dataframe\">\n",
       "  <thead>\n",
       "    <tr style=\"text-align: right;\">\n",
       "      <th></th>\n",
       "      <th>category</th>\n",
       "      <th>number_of_bikes</th>\n",
       "    </tr>\n",
       "  </thead>\n",
       "  <tbody>\n",
       "  </tbody>\n",
       "</table>\n",
       "</div>"
      ],
      "text/plain": [
       "Empty DataFrame\n",
       "Columns: [category, number_of_bikes]\n",
       "Index: []"
      ]
     },
     "execution_count": 11,
     "metadata": {},
     "output_type": "execute_result"
    }
   ],
   "source": [
    "#1.How many bikes the shop owns by category where the number of bike is greater than 2\n",
    "\n",
    "cursor.execute( \"\"\"\n",
    "        SELECT \n",
    "            category, \n",
    "            count(1) as number_of_bikes \n",
    "        FROM \n",
    "            bike\n",
    "        GROUP BY\n",
    "           category having count(1) > 2;\"\"\")\n",
    "mer = cursor.fetchall()\n",
    "# Fetch column names\n",
    "column_names = [desc[0] for desc in cursor.description]\n",
    "# Print using panda dataframe\n",
    "df=pd.DataFrame(mer, columns=column_names)\n",
    "df\n"
   ]
  },
  {
   "cell_type": "markdown",
   "id": "73a132c1",
   "metadata": {
    "papermill": {
     "duration": 0.010521,
     "end_time": "2024-09-14T06:15:16.207227",
     "exception": false,
     "start_time": "2024-09-14T06:15:16.196706",
     "status": "completed"
    },
    "tags": []
   },
   "source": [
    "2.Emily needs a list of customer names with the total number of\n",
    "memberships purchased by each.\n",
    "For each customer, display the customer's name and the count of\n",
    "memberships purchased (call this column membership_count ). Sort the\n",
    "results by membership_count , starting with the customer who has purchased\n",
    "the highest number of memberships.\n",
    "Keep in mind that some customers may not have purchased any\n",
    "memberships yet. In such a situation, display 0 for the membership_count ."
   ]
  },
  {
   "cell_type": "code",
   "execution_count": 12,
   "id": "46aa63a8",
   "metadata": {
    "execution": {
     "iopub.execute_input": "2024-09-14T06:15:16.232492Z",
     "iopub.status.busy": "2024-09-14T06:15:16.231960Z",
     "iopub.status.idle": "2024-09-14T06:15:16.246103Z",
     "shell.execute_reply": "2024-09-14T06:15:16.244852Z"
    },
    "papermill": {
     "duration": 0.030164,
     "end_time": "2024-09-14T06:15:16.248797",
     "exception": false,
     "start_time": "2024-09-14T06:15:16.218633",
     "status": "completed"
    },
    "tags": []
   },
   "outputs": [
    {
     "data": {
      "text/html": [
       "<div>\n",
       "<style scoped>\n",
       "    .dataframe tbody tr th:only-of-type {\n",
       "        vertical-align: middle;\n",
       "    }\n",
       "\n",
       "    .dataframe tbody tr th {\n",
       "        vertical-align: top;\n",
       "    }\n",
       "\n",
       "    .dataframe thead th {\n",
       "        text-align: right;\n",
       "    }\n",
       "</style>\n",
       "<table border=\"1\" class=\"dataframe\">\n",
       "  <thead>\n",
       "    <tr style=\"text-align: right;\">\n",
       "      <th></th>\n",
       "      <th>name</th>\n",
       "      <th>membership_count</th>\n",
       "    </tr>\n",
       "  </thead>\n",
       "  <tbody>\n",
       "  </tbody>\n",
       "</table>\n",
       "</div>"
      ],
      "text/plain": [
       "Empty DataFrame\n",
       "Columns: [name, membership_count]\n",
       "Index: []"
      ]
     },
     "execution_count": 12,
     "metadata": {},
     "output_type": "execute_result"
    }
   ],
   "source": [
    "#2 customer names with the total number of memberships purchased by each.\n",
    "\n",
    "\n",
    "cursor.execute(\"\"\"\n",
    "        SELECT \n",
    "             c.name, \n",
    "             count(m.id) as membership_count \n",
    "        FROM\n",
    "             membership m\n",
    "        RIGHT JOIN\n",
    "             customer c on c.id=m.customer_id\n",
    "        GROUP BY\n",
    "             c.name\n",
    "        ORDER BY\n",
    "             count(1) desc;\"\"\")\n",
    "mer=cursor.fetchall()\n",
    "col=[desc[0] for desc in cursor.description]\n",
    "#print using dataframe\n",
    "df=pd.DataFrame(mer, columns=col)\n",
    "df\n",
    "\n"
   ]
  },
  {
   "cell_type": "markdown",
   "id": "c4ffb6d3",
   "metadata": {
    "papermill": {
     "duration": 0.012199,
     "end_time": "2024-09-14T06:15:16.272419",
     "exception": false,
     "start_time": "2024-09-14T06:15:16.260220",
     "status": "completed"
    },
    "tags": []
   },
   "source": [
    "3.Emily is working on a special offer for the winter months. Can you help her\n",
    "prepare a list of new rental prices?\n",
    "For each bike, display its ID, category, old price per hour (call this column \n",
    "old_price_per_hour ), discounted price per hour (call it new_price_per_hour ), old\n",
    "price per day (call it old_price_per_day ), and discounted price per day (call it\n",
    "new_price_per_day ).\n",
    "Electric bikes should have a 10% discount for hourly rentals and a 20%\n",
    "discount for daily rentals. Mountain bikes should have a 20% discount for\n",
    "hourly rentals and a 50% discount for daily rentals. All other bikes should\n",
    "have a 50% discount for all types of rentals.\n",
    "Round the new prices to 2 decimal digits."
   ]
  },
  {
   "cell_type": "code",
   "execution_count": 13,
   "id": "d28d9c04",
   "metadata": {
    "execution": {
     "iopub.execute_input": "2024-09-14T06:15:16.296645Z",
     "iopub.status.busy": "2024-09-14T06:15:16.296173Z",
     "iopub.status.idle": "2024-09-14T06:15:16.312246Z",
     "shell.execute_reply": "2024-09-14T06:15:16.310929Z"
    },
    "papermill": {
     "duration": 0.03147,
     "end_time": "2024-09-14T06:15:16.315084",
     "exception": false,
     "start_time": "2024-09-14T06:15:16.283614",
     "status": "completed"
    },
    "tags": []
   },
   "outputs": [
    {
     "data": {
      "text/html": [
       "<div>\n",
       "<style scoped>\n",
       "    .dataframe tbody tr th:only-of-type {\n",
       "        vertical-align: middle;\n",
       "    }\n",
       "\n",
       "    .dataframe tbody tr th {\n",
       "        vertical-align: top;\n",
       "    }\n",
       "\n",
       "    .dataframe thead th {\n",
       "        text-align: right;\n",
       "    }\n",
       "</style>\n",
       "<table border=\"1\" class=\"dataframe\">\n",
       "  <thead>\n",
       "    <tr style=\"text-align: right;\">\n",
       "      <th></th>\n",
       "      <th>id</th>\n",
       "      <th>category</th>\n",
       "      <th>old_price_per_hour</th>\n",
       "      <th>new_price_per_hour</th>\n",
       "      <th>old_price_per_day</th>\n",
       "      <th>new_price_per_day</th>\n",
       "    </tr>\n",
       "  </thead>\n",
       "  <tbody>\n",
       "  </tbody>\n",
       "</table>\n",
       "</div>"
      ],
      "text/plain": [
       "Empty DataFrame\n",
       "Columns: [id, category, old_price_per_hour, new_price_per_hour, old_price_per_day, new_price_per_day]\n",
       "Index: []"
      ]
     },
     "execution_count": 13,
     "metadata": {},
     "output_type": "execute_result"
    }
   ],
   "source": [
    "cursor.execute(\"\"\"\n",
    "    SELECT \n",
    "       id, \n",
    "       category, \n",
    "       price_per_hour as old_price_per_hour,\n",
    "       case when category = 'electric' then round(price_per_hour - (price_per_hour*0.1) ,2)\n",
    "\t   when category = 'mountain bike' then round(price_per_hour - (price_per_hour*0.2) ,2)\n",
    "       else round(price_per_hour - (price_per_hour*0.5) ,2)\n",
    "       end as new_price_per_hour,\n",
    "       price_per_day as old_price_per_day, \n",
    "       case when category = 'electric' then round(price_per_day - (price_per_day*0.2) ,2)\n",
    "\t   when category = 'mountain bike' then round(price_per_day - (price_per_day*0.5) ,2)\n",
    "       else round(price_per_day - (price_per_day*0.5) ,2)\n",
    "       end as new_price_per_day\n",
    "   FROM bike;\n",
    "              \"\"\")\n",
    "\n",
    "vine=cursor.fetchall()\n",
    "col=[desc[0] for desc in cursor.description]\n",
    "#print using data frame\n",
    "df=pd.DataFrame(vine, columns=col)\n",
    "df\n"
   ]
  },
  {
   "cell_type": "markdown",
   "id": "254e5a88",
   "metadata": {
    "papermill": {
     "duration": 0.011095,
     "end_time": "2024-09-14T06:15:16.337746",
     "exception": false,
     "start_time": "2024-09-14T06:15:16.326651",
     "status": "completed"
    },
    "tags": []
   },
   "source": [
    "Emily is looking for counts of the rented bikes and of the available bikes in\n",
    "each category.\n",
    "Display the number of available bikes (call this column \n",
    "available_bikes_count ) and the number of rented bikes (call this column \n",
    "rented_bikes_count ) by bike category."
   ]
  },
  {
   "cell_type": "code",
   "execution_count": 14,
   "id": "62d4e78a",
   "metadata": {
    "execution": {
     "iopub.execute_input": "2024-09-14T06:15:16.362157Z",
     "iopub.status.busy": "2024-09-14T06:15:16.361684Z",
     "iopub.status.idle": "2024-09-14T06:15:16.375883Z",
     "shell.execute_reply": "2024-09-14T06:15:16.374663Z"
    },
    "papermill": {
     "duration": 0.029794,
     "end_time": "2024-09-14T06:15:16.378748",
     "exception": false,
     "start_time": "2024-09-14T06:15:16.348954",
     "status": "completed"
    },
    "tags": []
   },
   "outputs": [
    {
     "data": {
      "text/html": [
       "<div>\n",
       "<style scoped>\n",
       "    .dataframe tbody tr th:only-of-type {\n",
       "        vertical-align: middle;\n",
       "    }\n",
       "\n",
       "    .dataframe tbody tr th {\n",
       "        vertical-align: top;\n",
       "    }\n",
       "\n",
       "    .dataframe thead th {\n",
       "        text-align: right;\n",
       "    }\n",
       "</style>\n",
       "<table border=\"1\" class=\"dataframe\">\n",
       "  <thead>\n",
       "    <tr style=\"text-align: right;\">\n",
       "      <th></th>\n",
       "      <th>category</th>\n",
       "      <th>available_bikes_count</th>\n",
       "      <th>rented_bikes_count</th>\n",
       "    </tr>\n",
       "  </thead>\n",
       "  <tbody>\n",
       "  </tbody>\n",
       "</table>\n",
       "</div>"
      ],
      "text/plain": [
       "Empty DataFrame\n",
       "Columns: [category, available_bikes_count, rented_bikes_count]\n",
       "Index: []"
      ]
     },
     "execution_count": 14,
     "metadata": {},
     "output_type": "execute_result"
    }
   ],
   "source": [
    "cursor.execute(\"\"\"\n",
    "        SELECT\n",
    "              category,\n",
    "              count(case when status ='available' then 1 end) as available_bikes_count, \n",
    "              count(case when status ='rented' then 1 end) as rented_bikes_count\n",
    "        FROM\n",
    "              bike\n",
    "        GROUP BY\n",
    "              category;\n",
    "\n",
    "\"\"\")\n",
    "diva=cursor.fetchall()\n",
    "col=[desc[0] for desc in cursor.description]\n",
    "#print using dataframe in pandas\n",
    "df=pd.DataFrame(diva, columns=col)\n",
    "df\n"
   ]
  },
  {
   "cell_type": "markdown",
   "id": "1a750c87",
   "metadata": {
    "papermill": {
     "duration": 0.011029,
     "end_time": "2024-09-14T06:15:16.401406",
     "exception": false,
     "start_time": "2024-09-14T06:15:16.390377",
     "status": "completed"
    },
    "tags": []
   },
   "source": [
    "5.Emily is preparing a sales report. She needs to know the total revenue\n",
    "from rentals by month, the total by year, and the all-time across all the\n",
    "years. \n",
    "\n",
    "Display the total revenue from rentals for each month, the total for each\n",
    "year, and the total across all the years. Do not take memberships into\n",
    "account. There should be 3 columns: year , month , and revenue .\n",
    "Sort the results chronologically. Display the year total after all the month\n",
    "totals for the corresponding year. Show the all-time total as the last row."
   ]
  },
  {
   "cell_type": "code",
   "execution_count": 15,
   "id": "c3b4c212",
   "metadata": {
    "execution": {
     "iopub.execute_input": "2024-09-14T06:15:16.426836Z",
     "iopub.status.busy": "2024-09-14T06:15:16.426385Z",
     "iopub.status.idle": "2024-09-14T06:15:16.441413Z",
     "shell.execute_reply": "2024-09-14T06:15:16.440156Z"
    },
    "papermill": {
     "duration": 0.030862,
     "end_time": "2024-09-14T06:15:16.444400",
     "exception": false,
     "start_time": "2024-09-14T06:15:16.413538",
     "status": "completed"
    },
    "tags": []
   },
   "outputs": [
    {
     "data": {
      "text/html": [
       "<div>\n",
       "<style scoped>\n",
       "    .dataframe tbody tr th:only-of-type {\n",
       "        vertical-align: middle;\n",
       "    }\n",
       "\n",
       "    .dataframe tbody tr th {\n",
       "        vertical-align: top;\n",
       "    }\n",
       "\n",
       "    .dataframe thead th {\n",
       "        text-align: right;\n",
       "    }\n",
       "</style>\n",
       "<table border=\"1\" class=\"dataframe\">\n",
       "  <thead>\n",
       "    <tr style=\"text-align: right;\">\n",
       "      <th></th>\n",
       "      <th>year</th>\n",
       "      <th>month</th>\n",
       "      <th>revenue</th>\n",
       "    </tr>\n",
       "  </thead>\n",
       "  <tbody>\n",
       "    <tr>\n",
       "      <th>0</th>\n",
       "      <td>None</td>\n",
       "      <td>None</td>\n",
       "      <td>None</td>\n",
       "    </tr>\n",
       "  </tbody>\n",
       "</table>\n",
       "</div>"
      ],
      "text/plain": [
       "   year month revenue\n",
       "0  None  None    None"
      ]
     },
     "execution_count": 15,
     "metadata": {},
     "output_type": "execute_result"
    }
   ],
   "source": [
    "cursor.execute(\"\"\"\n",
    "    SELECT \n",
    "        strftime('%Y', start_timestamp) AS year,\n",
    "        strftime('%m', start_timestamp) AS month,\n",
    "        SUM(total_paid) AS revenue\n",
    "    FROM \n",
    "        rental\n",
    "    GROUP BY \n",
    "        strftime('%Y', start_timestamp), \n",
    "        strftime('%m', start_timestamp)\n",
    "\n",
    "    UNION ALL\n",
    "\n",
    "    SELECT \n",
    "        strftime('%Y', start_timestamp) AS year,\n",
    "        NULL AS month, \n",
    "        SUM(total_paid) AS revenue\n",
    "    FROM \n",
    "        rental\n",
    "    GROUP BY \n",
    "        strftime('%Y', start_timestamp)\n",
    "\n",
    "    UNION ALL\n",
    "\n",
    "    SELECT \n",
    "        NULL AS year, \n",
    "        NULL AS month, \n",
    "        SUM(total_paid) AS revenue\n",
    "    FROM \n",
    "        rental\n",
    "    ORDER BY \n",
    "        year, month;\n",
    "\"\"\")\n",
    "\n",
    "# Fetch the data and retrieve the column headers\n",
    "divine = cursor.fetchall()\n",
    "col = [desc[0] for desc in cursor.description]\n",
    "\n",
    "# Create and display the DataFrame\n",
    "dal = pd.DataFrame(divine, columns=col)\n",
    "dal\n"
   ]
  },
  {
   "cell_type": "markdown",
   "id": "a47864b4",
   "metadata": {
    "papermill": {
     "duration": 0.011163,
     "end_time": "2024-09-14T06:15:16.467558",
     "exception": false,
     "start_time": "2024-09-14T06:15:16.456395",
     "status": "completed"
    },
    "tags": []
   },
   "source": [
    "6.Emily has asked you to get the total revenue from memberships for each combination of year, month, and membership type.\n",
    "Display the year, the month, the name of the membership type (call this column membership_type_name ), and the total revenue (call this column\n",
    "total_revenue ) for every combination of year, month, and membership type. Sort the results by year, month, and name of membership type."
   ]
  },
  {
   "cell_type": "code",
   "execution_count": 16,
   "id": "ae9d3ff8",
   "metadata": {
    "execution": {
     "iopub.execute_input": "2024-09-14T06:15:16.493800Z",
     "iopub.status.busy": "2024-09-14T06:15:16.493370Z",
     "iopub.status.idle": "2024-09-14T06:15:16.508272Z",
     "shell.execute_reply": "2024-09-14T06:15:16.506722Z"
    },
    "papermill": {
     "duration": 0.031735,
     "end_time": "2024-09-14T06:15:16.511550",
     "exception": false,
     "start_time": "2024-09-14T06:15:16.479815",
     "status": "completed"
    },
    "tags": []
   },
   "outputs": [
    {
     "data": {
      "text/html": [
       "<div>\n",
       "<style scoped>\n",
       "    .dataframe tbody tr th:only-of-type {\n",
       "        vertical-align: middle;\n",
       "    }\n",
       "\n",
       "    .dataframe tbody tr th {\n",
       "        vertical-align: top;\n",
       "    }\n",
       "\n",
       "    .dataframe thead th {\n",
       "        text-align: right;\n",
       "    }\n",
       "</style>\n",
       "<table border=\"1\" class=\"dataframe\">\n",
       "  <thead>\n",
       "    <tr style=\"text-align: right;\">\n",
       "      <th></th>\n",
       "      <th>Year</th>\n",
       "      <th>Month</th>\n",
       "      <th>membership_type_name</th>\n",
       "      <th>total_revenue</th>\n",
       "    </tr>\n",
       "  </thead>\n",
       "  <tbody>\n",
       "  </tbody>\n",
       "</table>\n",
       "</div>"
      ],
      "text/plain": [
       "Empty DataFrame\n",
       "Columns: [Year, Month, membership_type_name, total_revenue]\n",
       "Index: []"
      ]
     },
     "execution_count": 16,
     "metadata": {},
     "output_type": "execute_result"
    }
   ],
   "source": [
    "cursor.execute(\"\"\"\n",
    "      SELECT\n",
    "          strftime('%Y',start_date) AS Year,\n",
    "          strftime('%m',start_date) AS Month,\n",
    "          m.name AS membership_type_name,\n",
    "          sum(total_paid) AS total_revenue\n",
    "      FROM \n",
    "          membership d\n",
    "      JOIN\n",
    "          membership_type m ON d.membership_type_id=m.id\n",
    "      GROUP BY\n",
    "          Year,Month,m.name\n",
    "      ORDER BY\n",
    "          Year,Month,m.name\n",
    "          \n",
    "\"\"\")\n",
    "\n",
    "mt=cursor.fetchall()\n",
    "col=[desc[0] for desc in cursor.description]\n",
    "df=pd.DataFrame(mt, columns=col)\n",
    "df"
   ]
  },
  {
   "cell_type": "markdown",
   "id": "16e7cc68",
   "metadata": {
    "papermill": {
     "duration": 0.011991,
     "end_time": "2024-09-14T06:15:16.535353",
     "exception": false,
     "start_time": "2024-09-14T06:15:16.523362",
     "status": "completed"
    },
    "tags": []
   },
   "source": [
    "7. Next, Emily would like data about memberships purchased in 2023, with subtotals and grand totals for all the different combinations of membership types and months.\n",
    "Display the total revenue from memberships purchased in 2023 for each combination of month and membership type. Generate subtotals and grand totals for all possible combinations. There should be 3 columns:\n",
    "membership_type_name , month , and total_revenue .\n",
    "Sort the results by membership type name alphabetically and then\n",
    "chronologically by month."
   ]
  },
  {
   "cell_type": "code",
   "execution_count": 17,
   "id": "ef110fdd",
   "metadata": {
    "execution": {
     "iopub.execute_input": "2024-09-14T06:15:16.560883Z",
     "iopub.status.busy": "2024-09-14T06:15:16.560449Z",
     "iopub.status.idle": "2024-09-14T06:15:16.575548Z",
     "shell.execute_reply": "2024-09-14T06:15:16.574223Z"
    },
    "papermill": {
     "duration": 0.031053,
     "end_time": "2024-09-14T06:15:16.578399",
     "exception": false,
     "start_time": "2024-09-14T06:15:16.547346",
     "status": "completed"
    },
    "tags": []
   },
   "outputs": [
    {
     "data": {
      "text/html": [
       "<div>\n",
       "<style scoped>\n",
       "    .dataframe tbody tr th:only-of-type {\n",
       "        vertical-align: middle;\n",
       "    }\n",
       "\n",
       "    .dataframe tbody tr th {\n",
       "        vertical-align: top;\n",
       "    }\n",
       "\n",
       "    .dataframe thead th {\n",
       "        text-align: right;\n",
       "    }\n",
       "</style>\n",
       "<table border=\"1\" class=\"dataframe\">\n",
       "  <thead>\n",
       "    <tr style=\"text-align: right;\">\n",
       "      <th></th>\n",
       "      <th>membership_type_name</th>\n",
       "      <th>month</th>\n",
       "      <th>total_revenue</th>\n",
       "    </tr>\n",
       "  </thead>\n",
       "  <tbody>\n",
       "  </tbody>\n",
       "</table>\n",
       "</div>"
      ],
      "text/plain": [
       "Empty DataFrame\n",
       "Columns: [membership_type_name, month, total_revenue]\n",
       "Index: []"
      ]
     },
     "execution_count": 17,
     "metadata": {},
     "output_type": "execute_result"
    }
   ],
   "source": [
    "cursor.execute(\"\"\"\n",
    "    SELECT\n",
    "        m.name AS membership_type_name,\n",
    "        strftime('%m', start_date) AS month,\n",
    "        SUM(total_paid) AS total_revenue\n",
    "    FROM \n",
    "        membership d\n",
    "    JOIN\n",
    "        membership_type m ON d.membership_type_id = m.id\n",
    "    WHERE \n",
    "        strftime('%Y', start_date) = '2023'\n",
    "    GROUP BY\n",
    "        m.name, strftime('%m', start_date)\n",
    "    ORDER BY \n",
    "        membership_type_name, month;\n",
    "\"\"\")\n",
    "\n",
    "# Fetch the data and retrieve the column headers\n",
    "mt = cursor.fetchall()\n",
    "col = [desc[0] for desc in cursor.description]\n",
    "\n",
    "# Create and display the DataFrame\n",
    "df = pd.DataFrame(mt, columns=col)\n",
    "df\n"
   ]
  },
  {
   "cell_type": "markdown",
   "id": "f4ef195b",
   "metadata": {
    "papermill": {
     "duration": 0.011525,
     "end_time": "2024-09-14T06:15:16.602111",
     "exception": false,
     "start_time": "2024-09-14T06:15:16.590586",
     "status": "completed"
    },
    "tags": []
   },
   "source": [
    "8. Now it's time for the final task.\n",
    "Emily wants to segment customers based on the number of rentals and see the count of customers in each segment. Use your SQL skills to get this!\n",
    "Categorize customers based on their rental history as follows:\n",
    "Customers who have had more than 10 rentals are categorized as 'more\n",
    "than 10' .\n",
    "Customers who have had 5 to 10 rentals (inclusive) are categorized as\n",
    "'between 5 and 10' .\n",
    "Customers who have had fewer than 5 rentals should be categorized as\n",
    "'fewer than 5' .\n",
    "Calculate the number of customers in each category. Display two columns: rental_count_category (the rental count category) and customer_count (the\n",
    "number of customers in each category).\n"
   ]
  },
  {
   "cell_type": "code",
   "execution_count": 18,
   "id": "64af71ab",
   "metadata": {
    "execution": {
     "iopub.execute_input": "2024-09-14T06:15:16.628167Z",
     "iopub.status.busy": "2024-09-14T06:15:16.627659Z",
     "iopub.status.idle": "2024-09-14T06:15:16.642135Z",
     "shell.execute_reply": "2024-09-14T06:15:16.640887Z"
    },
    "papermill": {
     "duration": 0.031074,
     "end_time": "2024-09-14T06:15:16.644950",
     "exception": false,
     "start_time": "2024-09-14T06:15:16.613876",
     "status": "completed"
    },
    "tags": []
   },
   "outputs": [
    {
     "data": {
      "text/html": [
       "<div>\n",
       "<style scoped>\n",
       "    .dataframe tbody tr th:only-of-type {\n",
       "        vertical-align: middle;\n",
       "    }\n",
       "\n",
       "    .dataframe tbody tr th {\n",
       "        vertical-align: top;\n",
       "    }\n",
       "\n",
       "    .dataframe thead th {\n",
       "        text-align: right;\n",
       "    }\n",
       "</style>\n",
       "<table border=\"1\" class=\"dataframe\">\n",
       "  <thead>\n",
       "    <tr style=\"text-align: right;\">\n",
       "      <th></th>\n",
       "      <th>rental_count_category</th>\n",
       "      <th>customer_count</th>\n",
       "    </tr>\n",
       "  </thead>\n",
       "  <tbody>\n",
       "  </tbody>\n",
       "</table>\n",
       "</div>"
      ],
      "text/plain": [
       "Empty DataFrame\n",
       "Columns: [rental_count_category, customer_count]\n",
       "Index: []"
      ]
     },
     "execution_count": 18,
     "metadata": {},
     "output_type": "execute_result"
    }
   ],
   "source": [
    "cursor.execute(\"\"\"\n",
    "    WITH tonge AS (\n",
    "        SELECT \n",
    "            customer_id, \n",
    "            COUNT(1) AS rental_count,\n",
    "            CASE \n",
    "                WHEN COUNT(1) > 10 THEN 'more than 10'\n",
    "                WHEN COUNT(1) BETWEEN 5 AND 10 THEN 'between 5 and 10'\n",
    "                ELSE 'fewer than 5'\n",
    "            END AS category\n",
    "        FROM \n",
    "            rental\n",
    "        GROUP BY \n",
    "            customer_id\n",
    "    )\n",
    "    SELECT \n",
    "        category AS rental_count_category,\n",
    "        COUNT(*) AS customer_count\n",
    "    FROM \n",
    "        tonge \n",
    "    GROUP BY \n",
    "        category\n",
    "    ORDER BY \n",
    "        customer_count;\n",
    "\"\"\")\n",
    "\n",
    "# Fetch the data and retrieve the column headers\n",
    "cus = cursor.fetchall()\n",
    "col = [desc[0] for desc in cursor.description]\n",
    "\n",
    "# Create and display the DataFrame\n",
    "df = pd.DataFrame(cus, columns=col)\n",
    "df\n",
    "\n",
    "\n",
    "\n"
   ]
  },
  {
   "cell_type": "code",
   "execution_count": 19,
   "id": "df6f5e09",
   "metadata": {
    "execution": {
     "iopub.execute_input": "2024-09-14T06:15:16.672977Z",
     "iopub.status.busy": "2024-09-14T06:15:16.671591Z",
     "iopub.status.idle": "2024-09-14T06:15:16.677717Z",
     "shell.execute_reply": "2024-09-14T06:15:16.676356Z"
    },
    "papermill": {
     "duration": 0.023612,
     "end_time": "2024-09-14T06:15:16.680744",
     "exception": false,
     "start_time": "2024-09-14T06:15:16.657132",
     "status": "completed"
    },
    "tags": []
   },
   "outputs": [],
   "source": [
    "# Close the cursor and connection\n",
    "#cursor.close()\n",
    "#conn.close()\n"
   ]
  },
  {
   "cell_type": "code",
   "execution_count": null,
   "id": "a13ccc13",
   "metadata": {
    "papermill": {
     "duration": 0.012205,
     "end_time": "2024-09-14T06:15:16.705271",
     "exception": false,
     "start_time": "2024-09-14T06:15:16.693066",
     "status": "completed"
    },
    "tags": []
   },
   "outputs": [],
   "source": []
  }
 ],
 "metadata": {
  "kaggle": {
   "accelerator": "none",
   "dataSources": [],
   "dockerImageVersionId": 30761,
   "isGpuEnabled": false,
   "isInternetEnabled": true,
   "language": "python",
   "sourceType": "notebook"
  },
  "kernelspec": {
   "display_name": "Python 3",
   "language": "python",
   "name": "python3"
  },
  "language_info": {
   "codemirror_mode": {
    "name": "ipython",
    "version": 3
   },
   "file_extension": ".py",
   "mimetype": "text/x-python",
   "name": "python",
   "nbconvert_exporter": "python",
   "pygments_lexer": "ipython3",
   "version": "3.10.14"
  },
  "papermill": {
   "default_parameters": {},
   "duration": 5.507617,
   "end_time": "2024-09-14T06:15:17.341593",
   "environment_variables": {},
   "exception": null,
   "input_path": "__notebook__.ipynb",
   "output_path": "__notebook__.ipynb",
   "parameters": {},
   "start_time": "2024-09-14T06:15:11.833976",
   "version": "2.6.0"
  }
 },
 "nbformat": 4,
 "nbformat_minor": 5
}
